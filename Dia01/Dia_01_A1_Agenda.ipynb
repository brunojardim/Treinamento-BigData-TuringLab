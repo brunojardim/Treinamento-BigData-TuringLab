{
 "cells": [
  {
   "cell_type": "markdown",
   "metadata": {},
   "source": [
    "# ---------------------- Agenda - Dia 01 - Parte 1 ------------------------------------\n",
    "\n",
    "### 1)\tIntrodução ao Big Data\n",
    "    \n",
    "### 2)\tArquitetura Big Data \n",
    "\n",
    "### 3)\tOverview do Ambiente Turing + Turing Lab Data Science\n",
    "\n",
    "### 4) Laboratório 01 (Conexão LABTuring e aplicativos)\n",
    "\n",
    "### 5)\tEvolução do armazenamento de dados e arquitetura master-slave\n",
    "\n",
    "### 6) Laboratório 02 (explorar armazenamento de dados: CSV | Parquet | JSON)\n",
    "\n",
    "### ---------------------------------------------------------------------------------------------------------------------------------------"
   ]
  },
  {
   "cell_type": "markdown",
   "metadata": {},
   "source": [
    "# --------------------- Agenda - Dia 01 - Parte 2 ----------------------------------\n",
    "\n",
    "### 1) Visão end-to-end de dados + analytics \n",
    "\n",
    "### 2) Laboratório 01 (Explorando conteúdo das tabelas pelo LAB Turing)\n",
    "\n",
    "### 3) Laboratório 02 (Processo completo de ETL)\n",
    "\n",
    "### 4) Laboratório 02 (armazenamento dos dados)\n",
    "\n",
    "### 5) Laboratório 03 (Criando aplicação visual de dados)\n",
    "\n",
    "### -------------------------------------------------------------------------------------------------------------------------------------"
   ]
  },
  {
   "cell_type": "markdown",
   "metadata": {},
   "source": [
    "# --------------------- Agenda - Dia 02 - Parte 1 --------------------------------\n",
    "\n",
    "### 1)\tData Mining\n",
    "\n",
    "### 2)\tIntrodução ao Aprendizado de Máquina (Machine Learning)\n",
    "\n",
    "### 3)\tTipos de Dados\n",
    "\n",
    "### 4)\tVisualização dos Dados\n",
    "\n",
    "### 5)\tPreparação dos Dados\n",
    "\n",
    "### 6)\tSeleção de Variáveis\n",
    "\n",
    "### 7)  Algorítmos Supervisionados\n",
    "\n",
    "### 8) Desempenho de Modelos Supervisionados\n",
    "\n",
    "### 9) Laboratório 03 (Processo completo de treinamento de modelos - 10 algorítmos)\n",
    "\n",
    "### -------------------------------------------------------------------------------------------------------------------------------------"
   ]
  },
  {
   "cell_type": "markdown",
   "metadata": {},
   "source": [
    "# ---------------------- Agenda - Dia 04 - Parte 2 -------------------------------\n",
    "\n",
    "### 1)\tAlgoritmos não supervisionados (K-means)\n",
    "\n",
    "### 2)\tAvaliação de desempenho dos modelos\n",
    "\n",
    "### 5)\tImplantação de Modelos (Ambiente de Produção - Mundo Online vs Mundo Batch)\n",
    "\n",
    "### ---------------------------------------------------------------------------------------------------------------------------------\n"
   ]
  },
  {
   "cell_type": "markdown",
   "metadata": {},
   "source": [
    "# ------------------------------ Agenda - Dia 03 ----------------------------------------\n",
    "\n",
    "### 1)\tCase de Negócio\n",
    "\n",
    "### ---------------------------------------------------------------------------------------------------------------------------------------\n"
   ]
  },
  {
   "cell_type": "code",
   "execution_count": null,
   "metadata": {},
   "outputs": [],
   "source": []
  }
 ],
 "metadata": {
  "kernelspec": {
   "display_name": "Python 3",
   "language": "python",
   "name": "python3"
  },
  "language_info": {
   "codemirror_mode": {
    "name": "ipython",
    "version": 3
   },
   "file_extension": ".py",
   "mimetype": "text/x-python",
   "name": "python",
   "nbconvert_exporter": "python",
   "pygments_lexer": "ipython3",
   "version": "3.6.8"
  }
 },
 "nbformat": 4,
 "nbformat_minor": 2
}
