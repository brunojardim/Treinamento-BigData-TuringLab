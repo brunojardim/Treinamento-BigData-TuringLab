{
 "cells": [
  {
   "cell_type": "markdown",
   "metadata": {},
   "source": [
    "# ------------------------------ Agenda - Dia 01 ----------------------------------------\n",
    "\n",
    "### 1)\tIntrodução ao Big Data\n",
    "    \n",
    "### 2)\tArquitetura Big Data \n",
    "\n",
    "### 3)\tConfiguração de Cluster Hadoop \n",
    "\n",
    "### 4)\tFerramentas de monitaramento do Cluster \n",
    "\n",
    "### 5)\tConfiguração/tipo do Cluster otimizado para diferentes aplicações de Big Data\n",
    "\n",
    "### 6)\tOtimização de custos utilizando AWS EMR Spot \n",
    "\n",
    "### 7)\tFerramentas para Mineração e Visualização dos dados\n",
    "\n",
    "### 8) Laboratório 01 (Configuração do Cluster Ecossistema Hadoop Spark)\n",
    "\n",
    "### ---------------------------------------------------------------------------------------------------------------------------------------"
   ]
  },
  {
   "cell_type": "markdown",
   "metadata": {},
   "source": [
    "# ------------------------------ Agenda - Dia 02 ----------------------------------------\n",
    "\n",
    "### 1)\tProcessamento de Grande Volume de Dados \n",
    "\n",
    "### 2)\tTipos de armazenamento dos dados (CSV | Parquet | JSON)\n",
    "\n",
    "### 3)\tExtração, Transformação e Carga dos Dados (ETL) \n",
    "\n",
    "### 4)\tConversão de CSV para Parquet \n",
    "\n",
    "### 5)\tConversão de tipo de dado (Numerico | String | Data | Timestamp)\n",
    "\n",
    "### 6)\tParticionamento de dados com Spark/Pyspark\n",
    "\n",
    "### 7)  Armazenamento de Dados (S3 | RedShift | RDS | Teradata)\n",
    "\n",
    "### 8) Laboratório 02 (Processo completo de ETL)\n",
    "\n",
    "\n",
    "### ---------------------------------------------------------------------------------------------------------------------------------------"
   ]
  },
  {
   "cell_type": "markdown",
   "metadata": {},
   "source": [
    "# ------------------------------ Agenda - Dia 03 ----------------------------------------\n",
    "\n",
    "### 1)\tData Mining\n",
    "\n",
    "### 2)\tIntrodução ao Aprendizado de Máquina (Machine Learning)\n",
    "\n",
    "### 3)\tTipos de Dados\n",
    "\n",
    "### 4)\tVisualização dos Dados\n",
    "\n",
    "### 5)\tPreparação dos Dados\n",
    "\n",
    "### 6)\tSeleção de Variáveis\n",
    "\n",
    "### 7)  Algorítmos Supervisionados\n",
    "\n",
    "### 8) Desempenho de Modelos Supervisionados\n",
    "\n",
    "### 9) Laboratório 03 (Processo completo de treinamento de modelos - 10 algorítmos)\n",
    "\n",
    "### ---------------------------------------------------------------------------------------------------------------------------------------"
   ]
  },
  {
   "cell_type": "markdown",
   "metadata": {},
   "source": [
    "# ------------------------------ Agenda - Dia 04 ----------------------------------------\n",
    "\n",
    "### 1)\tAlgoritmos não supervisionados (K-means)\n",
    "\n",
    "### 2)\tAvaliação de desempenho dos modelos\n",
    "\n",
    "### 5)\tImplantação de Modelos (Ambiente de Produção - Mundo Online vs Mundo Batch)\n",
    "\n",
    "### ---------------------------------------------------------------------------------------------------------------------------------------\n"
   ]
  },
  {
   "cell_type": "markdown",
   "metadata": {},
   "source": [
    "# ------------------------------ Agenda - Dia 05 ----------------------------------------\n",
    "\n",
    "### 1)\tCase de Negócio\n",
    "### 2) Premiação \n",
    "\n",
    "### ---------------------------------------------------------------------------------------------------------------------------------------\n"
   ]
  }
 ],
 "metadata": {
  "kernelspec": {
   "display_name": "Python 3",
   "language": "python",
   "name": "python3"
  },
  "language_info": {
   "codemirror_mode": {
    "name": "ipython",
    "version": 3
   },
   "file_extension": ".py",
   "mimetype": "text/x-python",
   "name": "python",
   "nbconvert_exporter": "python",
   "pygments_lexer": "ipython3",
   "version": "3.6.6"
  }
 },
 "nbformat": 4,
 "nbformat_minor": 2
}
