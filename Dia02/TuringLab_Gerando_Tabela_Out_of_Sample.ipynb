{
 "cells": [
  {
   "cell_type": "markdown",
   "metadata": {},
   "source": [
    "#### Carregando biblioteca de funções Turing"
   ]
  },
  {
   "cell_type": "code",
   "execution_count": 1,
   "metadata": {},
   "outputs": [
    {
     "name": "stdout",
     "output_type": "stream",
     "text": [
      "------------- Turing Lab Data Science --------------------\n",
      "------ Funções carregadas em memória com sucesso ---------\n",
      "--------- Data da última atualização: --------------------\n",
      "--------------- 13/05/2019 -------------------------------\n",
      "----------------------------------------------------------\n",
      "--- Consulte o manual de Biblioteca de Funções Turing: ---\n"
     ]
    },
    {
     "data": {
      "text/html": [
       "<a href=\"http://www.labturing.com.br/turing/TuringManualGuide.php\">Acessar Manual</a>"
      ],
      "text/plain": [
       "<IPython.core.display.HTML object>"
      ]
     },
     "metadata": {},
     "output_type": "display_data"
    },
    {
     "name": "stdout",
     "output_type": "stream",
     "text": [
      "----------------------------------------------------------\n"
     ]
    },
    {
     "data": {
      "text/html": [
       "        <script type=\"text/javascript\">\n",
       "        window.PlotlyConfig = {MathJaxConfig: 'local'};\n",
       "        if (window.MathJax) {MathJax.Hub.Config({SVG: {font: \"STIX-Web\"}});}\n",
       "        if (typeof require !== 'undefined') {\n",
       "        require.undef(\"plotly\");\n",
       "        requirejs.config({\n",
       "            paths: {\n",
       "                'plotly': ['https://cdn.plot.ly/plotly-latest.min']\n",
       "            }\n",
       "        });\n",
       "        require(['plotly'], function(Plotly) {\n",
       "            window._Plotly = Plotly;\n",
       "        });\n",
       "        }\n",
       "        </script>\n",
       "        "
      ]
     },
     "metadata": {},
     "output_type": "display_data"
    }
   ],
   "source": [
    "%run -i '/home/hadoop/.Turing/TuringAllFunctions.py'"
   ]
  },
  {
   "cell_type": "markdown",
   "metadata": {},
   "source": [
    "#### Parâmetros do Projeto"
   ]
  },
  {
   "cell_type": "code",
   "execution_count": 7,
   "metadata": {},
   "outputs": [],
   "source": [
    "#---------- Definição dos Parâmetros do projeto ---------------------------------\n",
    "nm_bucket = 'turing-bkt-treinamentos'\n",
    "id_empresa = '1022'\n",
    "nm_file_desenv_orig = 'titanic_kaggle_train.csv'\n",
    "targetname = 'Survived'"
   ]
  },
  {
   "cell_type": "markdown",
   "metadata": {},
   "source": [
    "#### Ler tabela de modelagem (ABT) "
   ]
  },
  {
   "cell_type": "code",
   "execution_count": 8,
   "metadata": {},
   "outputs": [
    {
     "data": {
      "text/plain": [
       "(891, 12)"
      ]
     },
     "execution_count": 8,
     "metadata": {},
     "output_type": "execute_result"
    }
   ],
   "source": [
    "# Lendo tabela de desenvolvimento original do bucket da POC\n",
    "path_file = 'Projetos/FLAT_TABLES/'+str(nm_file_desenv_orig)\n",
    "df_00 = TuringReadS3CSVFile(nm_bucket,path_file,sep=',')\n",
    "df_00.shape"
   ]
  },
  {
   "cell_type": "markdown",
   "metadata": {},
   "source": [
    "#### Separar a tabela de modelagem em duas (tabela de desenvolvimento e tabela de teste/validação)\n",
    "    - Neste caso estamos gerando validação out-of-sample"
   ]
  },
  {
   "cell_type": "code",
   "execution_count": 22,
   "metadata": {},
   "outputs": [
    {
     "data": {
      "text/plain": [
       "((623, 12), (268, 12))"
      ]
     },
     "execution_count": 22,
     "metadata": {},
     "output_type": "execute_result"
    }
   ],
   "source": [
    "df_desenv,df_valid = TuringHoldOut(df_00,targetname,pct_test=0.3)\n",
    "df_desenv.shape,df_valid.shape"
   ]
  },
  {
   "cell_type": "markdown",
   "metadata": {},
   "source": [
    "#### Salvar tabelas para autoML Turing"
   ]
  },
  {
   "cell_type": "code",
   "execution_count": 30,
   "metadata": {},
   "outputs": [
    {
     "data": {
      "text/plain": [
       "'Arquivo Salvo Com Sucesso'"
      ]
     },
     "execution_count": 30,
     "metadata": {},
     "output_type": "execute_result"
    }
   ],
   "source": [
    "S3fs,S3session,S3client,S3resource = TuringUsersCredentialsControl(id_empresa)\n",
    "\n",
    "s3_path_desenv = 'turing-bkt-treinamentos/Projetos/FLAT_TABLES/'\n",
    "nm_s3_file = 'ABT01_TITANIC_DESENV.csv'\n",
    "TuringWriteS3CSVFile(df_desenv,s3_path_desenv,nm_s3_file,S3fs,delimiter=',')\n",
    "\n",
    "s3_path_valida = 'turing-bkt-treinamentos/Projetos/SCORE_BATCH/'\n",
    "nm_s3_file = 'OOS01_TITANIC_VALID.csv'\n",
    "TuringWriteS3CSVFile(df_valid,s3_path_valida,nm_s3_file,S3fs,delimiter=',')"
   ]
  },
  {
   "cell_type": "markdown",
   "metadata": {},
   "source": [
    "### Verificar no S3 e no Timeline do Turing se os arquivos foram Salvos com Sucesso no local correto"
   ]
  },
  {
   "cell_type": "code",
   "execution_count": null,
   "metadata": {},
   "outputs": [],
   "source": []
  }
 ],
 "metadata": {
  "kernelspec": {
   "display_name": "Python 2",
   "language": "python",
   "name": "python2"
  },
  "language_info": {
   "codemirror_mode": {
    "name": "ipython",
    "version": 2
   },
   "file_extension": ".py",
   "mimetype": "text/x-python",
   "name": "python",
   "nbconvert_exporter": "python",
   "pygments_lexer": "ipython2",
   "version": "2.7.16"
  }
 },
 "nbformat": 4,
 "nbformat_minor": 2
}
