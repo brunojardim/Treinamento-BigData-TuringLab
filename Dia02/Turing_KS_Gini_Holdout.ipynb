{
 "cells": [
  {
   "cell_type": "code",
   "execution_count": 1,
   "metadata": {},
   "outputs": [
    {
     "name": "stdout",
     "output_type": "stream",
     "text": [
      "------------- Turing Lab Data Science --------------------\n",
      "------ Funções carregadas em memória com sucesso ---------\n",
      "--------- Data da última atualização: --------------------\n",
      "--------------- 13/05/2019 -------------------------------\n",
      "----------------------------------------------------------\n",
      "--- Consulte o manual de Biblioteca de Funções Turing: ---\n"
     ]
    },
    {
     "data": {
      "text/html": [
       "<a href=\"http://www.labturing.com.br/turing/TuringManualGuide.php\">Acessar Manual</a>"
      ],
      "text/plain": [
       "<IPython.core.display.HTML object>"
      ]
     },
     "metadata": {},
     "output_type": "display_data"
    },
    {
     "name": "stdout",
     "output_type": "stream",
     "text": [
      "----------------------------------------------------------\n"
     ]
    },
    {
     "data": {
      "text/html": [
       "        <script type=\"text/javascript\">\n",
       "        window.PlotlyConfig = {MathJaxConfig: 'local'};\n",
       "        if (window.MathJax) {MathJax.Hub.Config({SVG: {font: \"STIX-Web\"}});}\n",
       "        if (typeof require !== 'undefined') {\n",
       "        require.undef(\"plotly\");\n",
       "        requirejs.config({\n",
       "            paths: {\n",
       "                'plotly': ['https://cdn.plot.ly/plotly-latest.min']\n",
       "            }\n",
       "        });\n",
       "        require(['plotly'], function(Plotly) {\n",
       "            window._Plotly = Plotly;\n",
       "        });\n",
       "        }\n",
       "        </script>\n",
       "        "
      ]
     },
     "metadata": {},
     "output_type": "display_data"
    }
   ],
   "source": [
    "%run -i '/home/hadoop/.Turing/TuringAllFunctions.py'"
   ]
  },
  {
   "cell_type": "code",
   "execution_count": 2,
   "metadata": {},
   "outputs": [],
   "source": [
    "#---------- Definição dos Parâmetros do projeto ---------------------------------\n",
    "nm_bucket = 'turing-bkt-treinamentos'\n",
    "id_empresa = '1022'\n",
    "\n",
    "# Id do projeto parametrizado no Turing (o mesmo valor dado ao campo Id Projeto do Timeline)\n",
    "id_projeto = '350002'\n",
    "\n",
    "# Nome da variável resposta (quando houve)\n",
    "targetname = 'Survived'\n",
    "\n",
    "# Delimitador da tabela \n",
    "abt_delimiter = ','"
   ]
  },
  {
   "cell_type": "code",
   "execution_count": 3,
   "metadata": {},
   "outputs": [],
   "source": [
    "################### Não alterar este parágrafo #####################################\n",
    "#---------- Gerando Credenciais para Acesso Seguro ---------------------------------\n",
    "id_modelo = id_projeto\n",
    "schema = 'EMP_'+ id_empresa +'_Proj_'+ id_projeto\n",
    "S3fs,S3session,S3client,S3resource = TuringUsersCredentialsControl(id_empresa)\n",
    "schema_rds = 'EMP_'+id_empresa+'_Proj_'+id_projeto\n",
    "mysq_conn,engine = TuringRDSManagementConn(id_empresa,schema_rds,turing_adm = 'N')\n",
    "path_s3_wfile = 's3://'+nm_bucket+'/Projetos/'+'Projeto_'+id_projeto+'/Modelo_Id_'+id_projeto+'/Modeltrain/'\n",
    "s3_path = path_s3_wfile\n",
    "####################################################################################"
   ]
  },
  {
   "cell_type": "markdown",
   "metadata": {},
   "source": [
    "#### Leitura da tabela desenvolvimento (holdout) escorada pelo Turing "
   ]
  },
  {
   "cell_type": "code",
   "execution_count": 42,
   "metadata": {},
   "outputs": [
    {
     "data": {
      "text/plain": [
       "(485, 10)"
      ]
     },
     "execution_count": 42,
     "metadata": {},
     "output_type": "execute_result"
    }
   ],
   "source": [
    "nm_file_desenv_holdout = 'scored_best_model_desenv.csv'\n",
    "path_ = 'Projetos/'+'Projeto_'+id_projeto+'/Modelo_Id_'+id_projeto+'/Modeltrain/'\n",
    "path_file = path_+str(nm_file_desenv_holdout)\n",
    "desenv_df_ho = TuringReadS3CSVFile(nm_bucket,path_file,sep=abt_delimiter)\n",
    "\n",
    "desenv_df_ho.rename( columns={'Unnamed: 0':'Id'}, inplace=True )\n",
    "desenv_df_ho.shape"
   ]
  },
  {
   "cell_type": "code",
   "execution_count": 43,
   "metadata": {},
   "outputs": [
    {
     "data": {
      "text/html": [
       "<div>\n",
       "<style scoped>\n",
       "    .dataframe tbody tr th:only-of-type {\n",
       "        vertical-align: middle;\n",
       "    }\n",
       "\n",
       "    .dataframe tbody tr th {\n",
       "        vertical-align: top;\n",
       "    }\n",
       "\n",
       "    .dataframe thead th {\n",
       "        text-align: right;\n",
       "    }\n",
       "</style>\n",
       "<table border=\"1\" class=\"dataframe\">\n",
       "  <thead>\n",
       "    <tr style=\"text-align: right;\">\n",
       "      <th></th>\n",
       "      <th>Id</th>\n",
       "      <th>Fare</th>\n",
       "      <th>Age</th>\n",
       "      <th>Pclass</th>\n",
       "      <th>TGD_Sex_female</th>\n",
       "      <th>TGD_Sex_male</th>\n",
       "      <th>P_Target_0</th>\n",
       "      <th>P_Target_1</th>\n",
       "      <th>C_Target</th>\n",
       "      <th>target_t_bin</th>\n",
       "    </tr>\n",
       "  </thead>\n",
       "  <tbody>\n",
       "    <tr>\n",
       "      <th>0</th>\n",
       "      <td>11</td>\n",
       "      <td>-0.516566</td>\n",
       "      <td>0.000000</td>\n",
       "      <td>0.848448</td>\n",
       "      <td>1</td>\n",
       "      <td>0</td>\n",
       "      <td>0.390056</td>\n",
       "      <td>0.609944</td>\n",
       "      <td>1</td>\n",
       "      <td>0</td>\n",
       "    </tr>\n",
       "    <tr>\n",
       "      <th>1</th>\n",
       "      <td>496</td>\n",
       "      <td>-0.196153</td>\n",
       "      <td>0.313981</td>\n",
       "      <td>-0.342054</td>\n",
       "      <td>1</td>\n",
       "      <td>0</td>\n",
       "      <td>0.229696</td>\n",
       "      <td>0.770304</td>\n",
       "      <td>1</td>\n",
       "      <td>1</td>\n",
       "    </tr>\n",
       "    <tr>\n",
       "      <th>2</th>\n",
       "      <td>468</td>\n",
       "      <td>0.498508</td>\n",
       "      <td>0.000000</td>\n",
       "      <td>0.848448</td>\n",
       "      <td>0</td>\n",
       "      <td>1</td>\n",
       "      <td>0.880521</td>\n",
       "      <td>0.119479</td>\n",
       "      <td>0</td>\n",
       "      <td>0</td>\n",
       "    </tr>\n",
       "    <tr>\n",
       "      <th>3</th>\n",
       "      <td>424</td>\n",
       "      <td>-0.512419</td>\n",
       "      <td>0.000000</td>\n",
       "      <td>0.848448</td>\n",
       "      <td>1</td>\n",
       "      <td>0</td>\n",
       "      <td>0.390064</td>\n",
       "      <td>0.609936</td>\n",
       "      <td>1</td>\n",
       "      <td>1</td>\n",
       "    </tr>\n",
       "    <tr>\n",
       "      <th>4</th>\n",
       "      <td>576</td>\n",
       "      <td>-0.455387</td>\n",
       "      <td>0.467718</td>\n",
       "      <td>-0.342054</td>\n",
       "      <td>0</td>\n",
       "      <td>1</td>\n",
       "      <td>0.783886</td>\n",
       "      <td>0.216114</td>\n",
       "      <td>0</td>\n",
       "      <td>0</td>\n",
       "    </tr>\n",
       "  </tbody>\n",
       "</table>\n",
       "</div>"
      ],
      "text/plain": [
       "    Id      Fare       Age    Pclass  TGD_Sex_female  TGD_Sex_male  \\\n",
       "0   11 -0.516566  0.000000  0.848448               1             0   \n",
       "1  496 -0.196153  0.313981 -0.342054               1             0   \n",
       "2  468  0.498508  0.000000  0.848448               0             1   \n",
       "3  424 -0.512419  0.000000  0.848448               1             0   \n",
       "4  576 -0.455387  0.467718 -0.342054               0             1   \n",
       "\n",
       "   P_Target_0  P_Target_1  C_Target  target_t_bin  \n",
       "0    0.390056    0.609944         1             0  \n",
       "1    0.229696    0.770304         1             1  \n",
       "2    0.880521    0.119479         0             0  \n",
       "3    0.390064    0.609936         1             1  \n",
       "4    0.783886    0.216114         0             0  "
      ]
     },
     "execution_count": 43,
     "metadata": {},
     "output_type": "execute_result"
    }
   ],
   "source": [
    "desenv_df_ho.head()"
   ]
  },
  {
   "cell_type": "markdown",
   "metadata": {},
   "source": [
    "#### Leitura da tabela validaçao (holdout) escorada pelo Turing "
   ]
  },
  {
   "cell_type": "code",
   "execution_count": 44,
   "metadata": {},
   "outputs": [
    {
     "data": {
      "text/plain": [
       "(138, 10)"
      ]
     },
     "execution_count": 44,
     "metadata": {},
     "output_type": "execute_result"
    }
   ],
   "source": [
    "nm_file_valid_holdout = 'scored_best_model_valid.csv'\n",
    "path_ = 'Projetos/'+'Projeto_'+id_projeto+'/Modelo_Id_'+id_projeto+'/Modeltrain/'\n",
    "path_file = path_+str(nm_file_valid_holdout)\n",
    "valid_df_ho = TuringReadS3CSVFile(nm_bucket,path_file,sep=abt_delimiter)\n",
    "\n",
    "valid_df_ho.rename( columns={'Unnamed: 0':'Id'}, inplace=True )\n",
    "valid_df_ho.shape"
   ]
  },
  {
   "cell_type": "code",
   "execution_count": 45,
   "metadata": {},
   "outputs": [
    {
     "data": {
      "text/html": [
       "<div>\n",
       "<style scoped>\n",
       "    .dataframe tbody tr th:only-of-type {\n",
       "        vertical-align: middle;\n",
       "    }\n",
       "\n",
       "    .dataframe tbody tr th {\n",
       "        vertical-align: top;\n",
       "    }\n",
       "\n",
       "    .dataframe thead th {\n",
       "        text-align: right;\n",
       "    }\n",
       "</style>\n",
       "<table border=\"1\" class=\"dataframe\">\n",
       "  <thead>\n",
       "    <tr style=\"text-align: right;\">\n",
       "      <th></th>\n",
       "      <th>Id</th>\n",
       "      <th>Fare</th>\n",
       "      <th>Age</th>\n",
       "      <th>Pclass</th>\n",
       "      <th>TGD_Sex_female</th>\n",
       "      <th>TGD_Sex_male</th>\n",
       "      <th>P_Target_0</th>\n",
       "      <th>P_Target_1</th>\n",
       "      <th>C_Target</th>\n",
       "      <th>target_t_bin</th>\n",
       "    </tr>\n",
       "  </thead>\n",
       "  <tbody>\n",
       "    <tr>\n",
       "      <th>0</th>\n",
       "      <td>313</td>\n",
       "      <td>-0.339250</td>\n",
       "      <td>1.082665</td>\n",
       "      <td>0.848448</td>\n",
       "      <td>0</td>\n",
       "      <td>1</td>\n",
       "      <td>0.919588</td>\n",
       "      <td>0.080412</td>\n",
       "      <td>0</td>\n",
       "      <td>0</td>\n",
       "    </tr>\n",
       "    <tr>\n",
       "      <th>1</th>\n",
       "      <td>387</td>\n",
       "      <td>-0.326807</td>\n",
       "      <td>-0.454703</td>\n",
       "      <td>0.848448</td>\n",
       "      <td>1</td>\n",
       "      <td>0</td>\n",
       "      <td>0.346879</td>\n",
       "      <td>0.653121</td>\n",
       "      <td>1</td>\n",
       "      <td>1</td>\n",
       "    </tr>\n",
       "    <tr>\n",
       "      <th>2</th>\n",
       "      <td>214</td>\n",
       "      <td>-0.403540</td>\n",
       "      <td>0.313981</td>\n",
       "      <td>-0.342054</td>\n",
       "      <td>1</td>\n",
       "      <td>0</td>\n",
       "      <td>0.229431</td>\n",
       "      <td>0.770569</td>\n",
       "      <td>1</td>\n",
       "      <td>1</td>\n",
       "    </tr>\n",
       "    <tr>\n",
       "      <th>3</th>\n",
       "      <td>60</td>\n",
       "      <td>-0.283515</td>\n",
       "      <td>-1.453991</td>\n",
       "      <td>0.848448</td>\n",
       "      <td>0</td>\n",
       "      <td>1</td>\n",
       "      <td>0.801148</td>\n",
       "      <td>0.198852</td>\n",
       "      <td>0</td>\n",
       "      <td>0</td>\n",
       "    </tr>\n",
       "    <tr>\n",
       "      <th>4</th>\n",
       "      <td>343</td>\n",
       "      <td>-0.417020</td>\n",
       "      <td>0.006508</td>\n",
       "      <td>-0.342054</td>\n",
       "      <td>1</td>\n",
       "      <td>0</td>\n",
       "      <td>0.207818</td>\n",
       "      <td>0.792182</td>\n",
       "      <td>1</td>\n",
       "      <td>1</td>\n",
       "    </tr>\n",
       "  </tbody>\n",
       "</table>\n",
       "</div>"
      ],
      "text/plain": [
       "    Id      Fare       Age    Pclass  TGD_Sex_female  TGD_Sex_male  \\\n",
       "0  313 -0.339250  1.082665  0.848448               0             1   \n",
       "1  387 -0.326807 -0.454703  0.848448               1             0   \n",
       "2  214 -0.403540  0.313981 -0.342054               1             0   \n",
       "3   60 -0.283515 -1.453991  0.848448               0             1   \n",
       "4  343 -0.417020  0.006508 -0.342054               1             0   \n",
       "\n",
       "   P_Target_0  P_Target_1  C_Target  target_t_bin  \n",
       "0    0.919588    0.080412         0             0  \n",
       "1    0.346879    0.653121         1             1  \n",
       "2    0.229431    0.770569         1             1  \n",
       "3    0.801148    0.198852         0             0  \n",
       "4    0.207818    0.792182         1             1  "
      ]
     },
     "execution_count": 45,
     "metadata": {},
     "output_type": "execute_result"
    }
   ],
   "source": [
    "valid_df_ho.head()"
   ]
  },
  {
   "cell_type": "markdown",
   "metadata": {},
   "source": [
    "#### Calculando KS - Desenvolvimento"
   ]
  },
  {
   "cell_type": "code",
   "execution_count": 46,
   "metadata": {},
   "outputs": [
    {
     "data": {
      "text/html": [
       "<div>\n",
       "<style scoped>\n",
       "    .dataframe tbody tr th:only-of-type {\n",
       "        vertical-align: middle;\n",
       "    }\n",
       "\n",
       "    .dataframe tbody tr th {\n",
       "        vertical-align: top;\n",
       "    }\n",
       "\n",
       "    .dataframe thead th {\n",
       "        text-align: right;\n",
       "    }\n",
       "</style>\n",
       "<table border=\"1\" class=\"dataframe\">\n",
       "  <thead>\n",
       "    <tr style=\"text-align: right;\">\n",
       "      <th></th>\n",
       "      <th>min_scr</th>\n",
       "      <th>max_scr</th>\n",
       "      <th>bads</th>\n",
       "      <th>goods</th>\n",
       "      <th>total</th>\n",
       "      <th>odds</th>\n",
       "      <th>bad_rate</th>\n",
       "      <th>ks</th>\n",
       "      <th>max_ks</th>\n",
       "    </tr>\n",
       "  </thead>\n",
       "  <tbody>\n",
       "    <tr>\n",
       "      <th>0</th>\n",
       "      <td>0.043221</td>\n",
       "      <td>0.155921</td>\n",
       "      <td>47</td>\n",
       "      <td>2</td>\n",
       "      <td>49</td>\n",
       "      <td>0.04</td>\n",
       "      <td>95.92%</td>\n",
       "      <td>23.93</td>\n",
       "      <td></td>\n",
       "    </tr>\n",
       "    <tr>\n",
       "      <th>1</th>\n",
       "      <td>0.156570</td>\n",
       "      <td>0.282200</td>\n",
       "      <td>40</td>\n",
       "      <td>8</td>\n",
       "      <td>48</td>\n",
       "      <td>0.20</td>\n",
       "      <td>83.33%</td>\n",
       "      <td>42.15</td>\n",
       "      <td></td>\n",
       "    </tr>\n",
       "    <tr>\n",
       "      <th>2</th>\n",
       "      <td>0.285217</td>\n",
       "      <td>0.390696</td>\n",
       "      <td>35</td>\n",
       "      <td>16</td>\n",
       "      <td>51</td>\n",
       "      <td>0.46</td>\n",
       "      <td>68.63%</td>\n",
       "      <td>55.03</td>\n",
       "      <td>&lt;== KS ==</td>\n",
       "    </tr>\n",
       "    <tr>\n",
       "      <th>3</th>\n",
       "      <td>0.390733</td>\n",
       "      <td>0.558055</td>\n",
       "      <td>16</td>\n",
       "      <td>30</td>\n",
       "      <td>46</td>\n",
       "      <td>1.88</td>\n",
       "      <td>34.78%</td>\n",
       "      <td>53.20</td>\n",
       "      <td></td>\n",
       "    </tr>\n",
       "    <tr>\n",
       "      <th>4</th>\n",
       "      <td>0.558267</td>\n",
       "      <td>0.725778</td>\n",
       "      <td>16</td>\n",
       "      <td>33</td>\n",
       "      <td>49</td>\n",
       "      <td>2.06</td>\n",
       "      <td>32.65%</td>\n",
       "      <td>50.36</td>\n",
       "      <td></td>\n",
       "    </tr>\n",
       "    <tr>\n",
       "      <th>5</th>\n",
       "      <td>0.730648</td>\n",
       "      <td>0.791576</td>\n",
       "      <td>8</td>\n",
       "      <td>40</td>\n",
       "      <td>48</td>\n",
       "      <td>5.00</td>\n",
       "      <td>16.67%</td>\n",
       "      <td>40.94</td>\n",
       "      <td></td>\n",
       "    </tr>\n",
       "    <tr>\n",
       "      <th>6</th>\n",
       "      <td>0.799587</td>\n",
       "      <td>0.850655</td>\n",
       "      <td>6</td>\n",
       "      <td>42</td>\n",
       "      <td>48</td>\n",
       "      <td>7.00</td>\n",
       "      <td>12.50%</td>\n",
       "      <td>29.79</td>\n",
       "      <td></td>\n",
       "    </tr>\n",
       "    <tr>\n",
       "      <th>7</th>\n",
       "      <td>0.850658</td>\n",
       "      <td>0.879742</td>\n",
       "      <td>10</td>\n",
       "      <td>39</td>\n",
       "      <td>49</td>\n",
       "      <td>3.90</td>\n",
       "      <td>20.41%</td>\n",
       "      <td>21.77</td>\n",
       "      <td></td>\n",
       "    </tr>\n",
       "    <tr>\n",
       "      <th>8</th>\n",
       "      <td>0.879749</td>\n",
       "      <td>0.881697</td>\n",
       "      <td>6</td>\n",
       "      <td>42</td>\n",
       "      <td>48</td>\n",
       "      <td>7.00</td>\n",
       "      <td>12.50%</td>\n",
       "      <td>10.62</td>\n",
       "      <td></td>\n",
       "    </tr>\n",
       "    <tr>\n",
       "      <th>9</th>\n",
       "      <td>0.882500</td>\n",
       "      <td>0.956879</td>\n",
       "      <td>7</td>\n",
       "      <td>42</td>\n",
       "      <td>49</td>\n",
       "      <td>6.00</td>\n",
       "      <td>14.29%</td>\n",
       "      <td>0.00</td>\n",
       "      <td></td>\n",
       "    </tr>\n",
       "  </tbody>\n",
       "</table>\n",
       "</div>"
      ],
      "text/plain": [
       "    min_scr   max_scr  bads  goods  total  odds bad_rate     ks     max_ks\n",
       "0  0.043221  0.155921    47      2     49  0.04   95.92%  23.93           \n",
       "1  0.156570  0.282200    40      8     48  0.20   83.33%  42.15           \n",
       "2  0.285217  0.390696    35     16     51  0.46   68.63%  55.03  <== KS ==\n",
       "3  0.390733  0.558055    16     30     46  1.88   34.78%  53.20           \n",
       "4  0.558267  0.725778    16     33     49  2.06   32.65%  50.36           \n",
       "5  0.730648  0.791576     8     40     48  5.00   16.67%  40.94           \n",
       "6  0.799587  0.850655     6     42     48  7.00   12.50%  29.79           \n",
       "7  0.850658  0.879742    10     39     49  3.90   20.41%  21.77           \n",
       "8  0.879749  0.881697     6     42     48  7.00   12.50%  10.62           \n",
       "9  0.882500  0.956879     7     42     49  6.00   14.29%   0.00           "
      ]
     },
     "execution_count": 46,
     "metadata": {},
     "output_type": "execute_result"
    }
   ],
   "source": [
    "KS_df,KS_value_d = TuringEvaluateModels(desenv_df_ho,'P_Target_0','target_t_bin')\n",
    "KS_df.head(10)"
   ]
  },
  {
   "cell_type": "markdown",
   "metadata": {},
   "source": [
    "#### Calculando KS - Validação"
   ]
  },
  {
   "cell_type": "code",
   "execution_count": 47,
   "metadata": {},
   "outputs": [
    {
     "data": {
      "text/html": [
       "<div>\n",
       "<style scoped>\n",
       "    .dataframe tbody tr th:only-of-type {\n",
       "        vertical-align: middle;\n",
       "    }\n",
       "\n",
       "    .dataframe tbody tr th {\n",
       "        vertical-align: top;\n",
       "    }\n",
       "\n",
       "    .dataframe thead th {\n",
       "        text-align: right;\n",
       "    }\n",
       "</style>\n",
       "<table border=\"1\" class=\"dataframe\">\n",
       "  <thead>\n",
       "    <tr style=\"text-align: right;\">\n",
       "      <th></th>\n",
       "      <th>min_scr</th>\n",
       "      <th>max_scr</th>\n",
       "      <th>bads</th>\n",
       "      <th>goods</th>\n",
       "      <th>total</th>\n",
       "      <th>odds</th>\n",
       "      <th>bad_rate</th>\n",
       "      <th>ks</th>\n",
       "      <th>max_ks</th>\n",
       "    </tr>\n",
       "  </thead>\n",
       "  <tbody>\n",
       "    <tr>\n",
       "      <th>0</th>\n",
       "      <td>0.064337</td>\n",
       "      <td>0.152380</td>\n",
       "      <td>14</td>\n",
       "      <td>0</td>\n",
       "      <td>14</td>\n",
       "      <td>0.00</td>\n",
       "      <td>100.00%</td>\n",
       "      <td>27.45</td>\n",
       "      <td></td>\n",
       "    </tr>\n",
       "    <tr>\n",
       "      <th>1</th>\n",
       "      <td>0.156570</td>\n",
       "      <td>0.229634</td>\n",
       "      <td>13</td>\n",
       "      <td>1</td>\n",
       "      <td>14</td>\n",
       "      <td>0.08</td>\n",
       "      <td>92.86%</td>\n",
       "      <td>51.79</td>\n",
       "      <td></td>\n",
       "    </tr>\n",
       "    <tr>\n",
       "      <th>2</th>\n",
       "      <td>0.229949</td>\n",
       "      <td>0.361324</td>\n",
       "      <td>7</td>\n",
       "      <td>7</td>\n",
       "      <td>14</td>\n",
       "      <td>1.00</td>\n",
       "      <td>50.00%</td>\n",
       "      <td>57.47</td>\n",
       "      <td></td>\n",
       "    </tr>\n",
       "    <tr>\n",
       "      <th>3</th>\n",
       "      <td>0.390059</td>\n",
       "      <td>0.528062</td>\n",
       "      <td>6</td>\n",
       "      <td>7</td>\n",
       "      <td>13</td>\n",
       "      <td>1.17</td>\n",
       "      <td>46.15%</td>\n",
       "      <td>61.19</td>\n",
       "      <td></td>\n",
       "    </tr>\n",
       "    <tr>\n",
       "      <th>4</th>\n",
       "      <td>0.534825</td>\n",
       "      <td>0.672508</td>\n",
       "      <td>7</td>\n",
       "      <td>7</td>\n",
       "      <td>14</td>\n",
       "      <td>1.00</td>\n",
       "      <td>50.00%</td>\n",
       "      <td>66.87</td>\n",
       "      <td>&lt;== KS ==</td>\n",
       "    </tr>\n",
       "    <tr>\n",
       "      <th>5</th>\n",
       "      <td>0.674505</td>\n",
       "      <td>0.783950</td>\n",
       "      <td>2</td>\n",
       "      <td>12</td>\n",
       "      <td>14</td>\n",
       "      <td>6.00</td>\n",
       "      <td>14.29%</td>\n",
       "      <td>57.00</td>\n",
       "      <td></td>\n",
       "    </tr>\n",
       "    <tr>\n",
       "      <th>6</th>\n",
       "      <td>0.786943</td>\n",
       "      <td>0.842423</td>\n",
       "      <td>1</td>\n",
       "      <td>12</td>\n",
       "      <td>13</td>\n",
       "      <td>12.00</td>\n",
       "      <td>7.69%</td>\n",
       "      <td>45.17</td>\n",
       "      <td></td>\n",
       "    </tr>\n",
       "    <tr>\n",
       "      <th>7</th>\n",
       "      <td>0.842478</td>\n",
       "      <td>0.874000</td>\n",
       "      <td>1</td>\n",
       "      <td>13</td>\n",
       "      <td>14</td>\n",
       "      <td>13.00</td>\n",
       "      <td>7.14%</td>\n",
       "      <td>32.18</td>\n",
       "      <td></td>\n",
       "    </tr>\n",
       "    <tr>\n",
       "      <th>8</th>\n",
       "      <td>0.875762</td>\n",
       "      <td>0.880037</td>\n",
       "      <td>0</td>\n",
       "      <td>14</td>\n",
       "      <td>14</td>\n",
       "      <td>inf</td>\n",
       "      <td>0.00%</td>\n",
       "      <td>16.09</td>\n",
       "      <td></td>\n",
       "    </tr>\n",
       "    <tr>\n",
       "      <th>9</th>\n",
       "      <td>0.880727</td>\n",
       "      <td>0.967211</td>\n",
       "      <td>0</td>\n",
       "      <td>14</td>\n",
       "      <td>14</td>\n",
       "      <td>inf</td>\n",
       "      <td>0.00%</td>\n",
       "      <td>0.00</td>\n",
       "      <td></td>\n",
       "    </tr>\n",
       "  </tbody>\n",
       "</table>\n",
       "</div>"
      ],
      "text/plain": [
       "    min_scr   max_scr  bads  goods  total   odds bad_rate     ks     max_ks\n",
       "0  0.064337  0.152380    14      0     14   0.00  100.00%  27.45           \n",
       "1  0.156570  0.229634    13      1     14   0.08   92.86%  51.79           \n",
       "2  0.229949  0.361324     7      7     14   1.00   50.00%  57.47           \n",
       "3  0.390059  0.528062     6      7     13   1.17   46.15%  61.19           \n",
       "4  0.534825  0.672508     7      7     14   1.00   50.00%  66.87  <== KS ==\n",
       "5  0.674505  0.783950     2     12     14   6.00   14.29%  57.00           \n",
       "6  0.786943  0.842423     1     12     13  12.00    7.69%  45.17           \n",
       "7  0.842478  0.874000     1     13     14  13.00    7.14%  32.18           \n",
       "8  0.875762  0.880037     0     14     14    inf    0.00%  16.09           \n",
       "9  0.880727  0.967211     0     14     14    inf    0.00%   0.00           "
      ]
     },
     "execution_count": 47,
     "metadata": {},
     "output_type": "execute_result"
    }
   ],
   "source": [
    "KS_df,KS_value_v = TuringEvaluateModels(valid_df_ho,'P_Target_0','target_t_bin')\n",
    "KS_df.head(10)"
   ]
  },
  {
   "cell_type": "markdown",
   "metadata": {},
   "source": [
    "#### Calculando Gini - Desenvolvimento"
   ]
  },
  {
   "cell_type": "code",
   "execution_count": 49,
   "metadata": {},
   "outputs": [
    {
     "data": {
      "text/plain": [
       "65.66"
      ]
     },
     "execution_count": 49,
     "metadata": {},
     "output_type": "execute_result"
    }
   ],
   "source": [
    "gini_desenv = TuringGini(desenv_df_ho,'target_t_bin','P_Target_1')\n",
    "gini_desenv*100"
   ]
  },
  {
   "cell_type": "markdown",
   "metadata": {},
   "source": [
    "#### Calculando Gini - Validação"
   ]
  },
  {
   "cell_type": "code",
   "execution_count": 50,
   "metadata": {},
   "outputs": [
    {
     "data": {
      "text/plain": [
       "82.28"
      ]
     },
     "execution_count": 50,
     "metadata": {},
     "output_type": "execute_result"
    }
   ],
   "source": [
    "gini_valid = TuringGini(valid_df_ho,'target_t_bin','P_Target_1')\n",
    "gini_valid*100"
   ]
  },
  {
   "cell_type": "markdown",
   "metadata": {},
   "source": [
    "#### Consolidando Metricas "
   ]
  },
  {
   "cell_type": "code",
   "execution_count": 51,
   "metadata": {},
   "outputs": [
    {
     "data": {
      "text/html": [
       "<div>\n",
       "<style scoped>\n",
       "    .dataframe tbody tr th:only-of-type {\n",
       "        vertical-align: middle;\n",
       "    }\n",
       "\n",
       "    .dataframe tbody tr th {\n",
       "        vertical-align: top;\n",
       "    }\n",
       "\n",
       "    .dataframe thead th {\n",
       "        text-align: right;\n",
       "    }\n",
       "</style>\n",
       "<table border=\"1\" class=\"dataframe\">\n",
       "  <thead>\n",
       "    <tr style=\"text-align: right;\">\n",
       "      <th></th>\n",
       "      <th>ABT</th>\n",
       "      <th>KS</th>\n",
       "      <th>Gini</th>\n",
       "    </tr>\n",
       "  </thead>\n",
       "  <tbody>\n",
       "    <tr>\n",
       "      <th>0</th>\n",
       "      <td>Desenv</td>\n",
       "      <td>55.03</td>\n",
       "      <td>0.6566</td>\n",
       "    </tr>\n",
       "    <tr>\n",
       "      <th>1</th>\n",
       "      <td>Valid</td>\n",
       "      <td>66.87</td>\n",
       "      <td>0.8228</td>\n",
       "    </tr>\n",
       "  </tbody>\n",
       "</table>\n",
       "</div>"
      ],
      "text/plain": [
       "      ABT     KS    Gini\n",
       "0  Desenv  55.03  0.6566\n",
       "1   Valid  66.87  0.8228"
      ]
     },
     "execution_count": 51,
     "metadata": {},
     "output_type": "execute_result"
    }
   ],
   "source": [
    "metricas = [['Desenv', KS_value_d,gini_desenv], ['Valid', KS_value_v,gini_valid]]\n",
    "df = pd.DataFrame(metricas, columns = ['ABT','KS', 'Gini']) \n",
    "df"
   ]
  },
  {
   "cell_type": "code",
   "execution_count": null,
   "metadata": {},
   "outputs": [],
   "source": []
  }
 ],
 "metadata": {
  "kernelspec": {
   "display_name": "Python 2",
   "language": "python",
   "name": "python2"
  },
  "language_info": {
   "codemirror_mode": {
    "name": "ipython",
    "version": 2
   },
   "file_extension": ".py",
   "mimetype": "text/x-python",
   "name": "python",
   "nbconvert_exporter": "python",
   "pygments_lexer": "ipython2",
   "version": "2.7.16"
  }
 },
 "nbformat": 4,
 "nbformat_minor": 2
}
