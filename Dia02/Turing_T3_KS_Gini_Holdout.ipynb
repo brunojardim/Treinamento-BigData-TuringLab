{
 "cells": [
  {
   "cell_type": "code",
   "execution_count": 7,
   "metadata": {},
   "outputs": [
    {
     "name": "stdout",
     "output_type": "stream",
     "text": [
      "------------- Turing Lab Data Science --------------------\n",
      "------ Funções carregadas em memória com sucesso ---------\n",
      "--------- Data da última atualização: --------------------\n",
      "--------------- 17/08/2019 -------------------------------\n",
      "----------------------------------------------------------\n",
      "--- Consulte o manual de Biblioteca de Funções Turing: ---\n"
     ]
    },
    {
     "data": {
      "text/html": [
       "<a href=\"http://www.labturing.com.br/turing/TuringManualGuide.php\">Acessar Manual</a>"
      ],
      "text/plain": [
       "<IPython.core.display.HTML object>"
      ]
     },
     "metadata": {},
     "output_type": "display_data"
    },
    {
     "name": "stdout",
     "output_type": "stream",
     "text": [
      "----------------------------------------------------------\n"
     ]
    }
   ],
   "source": [
    "%run -i '/home/.Turing/TuringCredentialsAccess.py3'\n",
    "%run -i '/home/.Turing/TuringLabFunctions.py3'"
   ]
  },
  {
   "cell_type": "markdown",
   "metadata": {},
   "source": [
    "#### Mapear bibliotecas Python necessárias"
   ]
  },
  {
   "cell_type": "code",
   "execution_count": 8,
   "metadata": {},
   "outputs": [],
   "source": [
    "import pandas as pd\n",
    "import numpy as np"
   ]
  },
  {
   "cell_type": "code",
   "execution_count": 9,
   "metadata": {},
   "outputs": [],
   "source": [
    "#---------- Definição dos Parâmetros do projeto ---------------------------------\n",
    "nm_bucket = 'turing-bkt-treinamentos'\n",
    "id_empresa = '1022'\n",
    "\n",
    "# Id do projeto parametrizado no Turing (o mesmo valor dado ao campo Id Projeto do Timeline)\n",
    "id_projeto = '10001'\n",
    "\n",
    "# Nome da variável resposta (quando houve)\n",
    "targetname = 'Survived'\n",
    "\n",
    "# Delimitador da tabela \n",
    "abt_delimiter = ','"
   ]
  },
  {
   "cell_type": "code",
   "execution_count": 10,
   "metadata": {},
   "outputs": [
    {
     "name": "stdout",
     "output_type": "stream",
     "text": [
      "Acesso RDS Turing Treinamentos\n"
     ]
    }
   ],
   "source": [
    "################### Não alterar este parágrafo #####################################\n",
    "#---------- Gerando Credenciais para Acesso Seguro ---------------------------------\n",
    "id_modelo = id_projeto\n",
    "schema = 'EMP_'+ id_empresa +'_Proj_'+ id_projeto\n",
    "S3fs,S3session,S3client,S3resource = TuringUsersCredentialsControl(id_empresa)\n",
    "schema_rds = 'EMP_'+id_empresa+'_Proj_'+id_projeto\n",
    "mysq_conn,engine = TuringRDSManagementConn(id_empresa,schema_rds,turing_adm = 'N')\n",
    "path_s3_wfile = 's3://'+nm_bucket+'/Projetos/'+'Projeto_'+id_projeto+'/Modelo_Id_'+id_projeto+'/Modeltrain/'\n",
    "s3_path = path_s3_wfile\n",
    "####################################################################################"
   ]
  },
  {
   "cell_type": "markdown",
   "metadata": {},
   "source": [
    "#### Leitura da tabela desenvolvimento (holdout) escorada pelo Turing "
   ]
  },
  {
   "cell_type": "code",
   "execution_count": 11,
   "metadata": {},
   "outputs": [
    {
     "data": {
      "text/plain": [
       "(694, 10)"
      ]
     },
     "execution_count": 11,
     "metadata": {},
     "output_type": "execute_result"
    }
   ],
   "source": [
    "nm_file_desenv_holdout = 'scored_best_model_desenv.csv'\n",
    "path_ = 'Projetos/'+'Projeto_'+id_projeto+'/Modelo_Id_'+id_projeto+'/Modeltrain/'\n",
    "path_file = path_+str(nm_file_desenv_holdout)\n",
    "desenv_df_ho = TuringReadS3CSVFile(nm_bucket,path_file,sep=abt_delimiter)\n",
    "\n",
    "desenv_df_ho.rename( columns={'Unnamed: 0':'Id'}, inplace=True )\n",
    "desenv_df_ho.shape"
   ]
  },
  {
   "cell_type": "code",
   "execution_count": 12,
   "metadata": {},
   "outputs": [
    {
     "data": {
      "text/html": [
       "<div>\n",
       "<style scoped>\n",
       "    .dataframe tbody tr th:only-of-type {\n",
       "        vertical-align: middle;\n",
       "    }\n",
       "\n",
       "    .dataframe tbody tr th {\n",
       "        vertical-align: top;\n",
       "    }\n",
       "\n",
       "    .dataframe thead th {\n",
       "        text-align: right;\n",
       "    }\n",
       "</style>\n",
       "<table border=\"1\" class=\"dataframe\">\n",
       "  <thead>\n",
       "    <tr style=\"text-align: right;\">\n",
       "      <th></th>\n",
       "      <th>Id</th>\n",
       "      <th>Fare</th>\n",
       "      <th>Age</th>\n",
       "      <th>Pclass</th>\n",
       "      <th>FamilySize</th>\n",
       "      <th>TGD_Titulo_Mr</th>\n",
       "      <th>P_Target_0</th>\n",
       "      <th>P_Target_1</th>\n",
       "      <th>C_Target</th>\n",
       "      <th>target_t_bin</th>\n",
       "    </tr>\n",
       "  </thead>\n",
       "  <tbody>\n",
       "    <tr>\n",
       "      <th>0</th>\n",
       "      <td>793</td>\n",
       "      <td>-0.030371</td>\n",
       "      <td>0.000000</td>\n",
       "      <td>-1.566107</td>\n",
       "      <td>-0.560975</td>\n",
       "      <td>1</td>\n",
       "      <td>0.591855</td>\n",
       "      <td>0.408145</td>\n",
       "      <td>0</td>\n",
       "      <td>0</td>\n",
       "    </tr>\n",
       "    <tr>\n",
       "      <th>1</th>\n",
       "      <td>678</td>\n",
       "      <td>0.295895</td>\n",
       "      <td>1.023561</td>\n",
       "      <td>0.827377</td>\n",
       "      <td>3.779968</td>\n",
       "      <td>0</td>\n",
       "      <td>0.952726</td>\n",
       "      <td>0.047274</td>\n",
       "      <td>0</td>\n",
       "      <td>0</td>\n",
       "    </tr>\n",
       "    <tr>\n",
       "      <th>2</th>\n",
       "      <td>368</td>\n",
       "      <td>-0.492378</td>\n",
       "      <td>0.000000</td>\n",
       "      <td>0.827377</td>\n",
       "      <td>-0.560975</td>\n",
       "      <td>0</td>\n",
       "      <td>0.281630</td>\n",
       "      <td>0.718370</td>\n",
       "      <td>1</td>\n",
       "      <td>1</td>\n",
       "    </tr>\n",
       "    <tr>\n",
       "      <th>3</th>\n",
       "      <td>569</td>\n",
       "      <td>-0.490280</td>\n",
       "      <td>0.177063</td>\n",
       "      <td>0.827377</td>\n",
       "      <td>-0.560975</td>\n",
       "      <td>1</td>\n",
       "      <td>0.903647</td>\n",
       "      <td>0.096353</td>\n",
       "      <td>0</td>\n",
       "      <td>1</td>\n",
       "    </tr>\n",
       "    <tr>\n",
       "      <th>4</th>\n",
       "      <td>443</td>\n",
       "      <td>-0.386671</td>\n",
       "      <td>-0.130754</td>\n",
       "      <td>-0.369365</td>\n",
       "      <td>-0.560975</td>\n",
       "      <td>0</td>\n",
       "      <td>0.113139</td>\n",
       "      <td>0.886861</td>\n",
       "      <td>1</td>\n",
       "      <td>1</td>\n",
       "    </tr>\n",
       "  </tbody>\n",
       "</table>\n",
       "</div>"
      ],
      "text/plain": [
       "    Id      Fare       Age    Pclass  FamilySize  TGD_Titulo_Mr  P_Target_0  \\\n",
       "0  793 -0.030371  0.000000 -1.566107   -0.560975              1    0.591855   \n",
       "1  678  0.295895  1.023561  0.827377    3.779968              0    0.952726   \n",
       "2  368 -0.492378  0.000000  0.827377   -0.560975              0    0.281630   \n",
       "3  569 -0.490280  0.177063  0.827377   -0.560975              1    0.903647   \n",
       "4  443 -0.386671 -0.130754 -0.369365   -0.560975              0    0.113139   \n",
       "\n",
       "   P_Target_1  C_Target  target_t_bin  \n",
       "0    0.408145         0             0  \n",
       "1    0.047274         0             0  \n",
       "2    0.718370         1             1  \n",
       "3    0.096353         0             1  \n",
       "4    0.886861         1             1  "
      ]
     },
     "execution_count": 12,
     "metadata": {},
     "output_type": "execute_result"
    }
   ],
   "source": [
    "desenv_df_ho.head()"
   ]
  },
  {
   "cell_type": "markdown",
   "metadata": {},
   "source": [
    "#### Leitura da tabela validaçao (holdout) escorada pelo Turing "
   ]
  },
  {
   "cell_type": "code",
   "execution_count": 13,
   "metadata": {},
   "outputs": [
    {
     "data": {
      "text/plain": [
       "(197, 10)"
      ]
     },
     "execution_count": 13,
     "metadata": {},
     "output_type": "execute_result"
    }
   ],
   "source": [
    "nm_file_valid_holdout = 'scored_best_model_valid.csv'\n",
    "path_ = 'Projetos/'+'Projeto_'+id_projeto+'/Modelo_Id_'+id_projeto+'/Modeltrain/'\n",
    "path_file = path_+str(nm_file_valid_holdout)\n",
    "valid_df_ho = TuringReadS3CSVFile(nm_bucket,path_file,sep=abt_delimiter)\n",
    "\n",
    "valid_df_ho.rename( columns={'Unnamed: 0':'Id'}, inplace=True )\n",
    "valid_df_ho.shape"
   ]
  },
  {
   "cell_type": "code",
   "execution_count": 14,
   "metadata": {},
   "outputs": [
    {
     "data": {
      "text/html": [
       "<div>\n",
       "<style scoped>\n",
       "    .dataframe tbody tr th:only-of-type {\n",
       "        vertical-align: middle;\n",
       "    }\n",
       "\n",
       "    .dataframe tbody tr th {\n",
       "        vertical-align: top;\n",
       "    }\n",
       "\n",
       "    .dataframe thead th {\n",
       "        text-align: right;\n",
       "    }\n",
       "</style>\n",
       "<table border=\"1\" class=\"dataframe\">\n",
       "  <thead>\n",
       "    <tr style=\"text-align: right;\">\n",
       "      <th></th>\n",
       "      <th>Id</th>\n",
       "      <th>Fare</th>\n",
       "      <th>Age</th>\n",
       "      <th>Pclass</th>\n",
       "      <th>FamilySize</th>\n",
       "      <th>TGD_Titulo_Mr</th>\n",
       "      <th>P_Target_0</th>\n",
       "      <th>P_Target_1</th>\n",
       "      <th>C_Target</th>\n",
       "      <th>target_t_bin</th>\n",
       "    </tr>\n",
       "  </thead>\n",
       "  <tbody>\n",
       "    <tr>\n",
       "      <th>0</th>\n",
       "      <td>665</td>\n",
       "      <td>0.831478</td>\n",
       "      <td>0.177063</td>\n",
       "      <td>-0.369365</td>\n",
       "      <td>0.679295</td>\n",
       "      <td>1</td>\n",
       "      <td>0.457381</td>\n",
       "      <td>0.542619</td>\n",
       "      <td>1</td>\n",
       "      <td>0</td>\n",
       "    </tr>\n",
       "    <tr>\n",
       "      <th>1</th>\n",
       "      <td>703</td>\n",
       "      <td>-0.492545</td>\n",
       "      <td>-0.361618</td>\n",
       "      <td>0.827377</td>\n",
       "      <td>-0.560975</td>\n",
       "      <td>1</td>\n",
       "      <td>0.863568</td>\n",
       "      <td>0.136432</td>\n",
       "      <td>0</td>\n",
       "      <td>0</td>\n",
       "    </tr>\n",
       "    <tr>\n",
       "      <th>2</th>\n",
       "      <td>306</td>\n",
       "      <td>1.584179</td>\n",
       "      <td>0.000000</td>\n",
       "      <td>-1.566107</td>\n",
       "      <td>-0.560975</td>\n",
       "      <td>0</td>\n",
       "      <td>0.037639</td>\n",
       "      <td>0.962361</td>\n",
       "      <td>1</td>\n",
       "      <td>1</td>\n",
       "    </tr>\n",
       "    <tr>\n",
       "      <th>3</th>\n",
       "      <td>127</td>\n",
       "      <td>-0.504626</td>\n",
       "      <td>-0.438572</td>\n",
       "      <td>0.827377</td>\n",
       "      <td>-0.560975</td>\n",
       "      <td>1</td>\n",
       "      <td>0.960632</td>\n",
       "      <td>0.039368</td>\n",
       "      <td>0</td>\n",
       "      <td>1</td>\n",
       "    </tr>\n",
       "    <tr>\n",
       "      <th>4</th>\n",
       "      <td>247</td>\n",
       "      <td>-0.356469</td>\n",
       "      <td>-0.438572</td>\n",
       "      <td>-0.369365</td>\n",
       "      <td>0.679295</td>\n",
       "      <td>0</td>\n",
       "      <td>0.383123</td>\n",
       "      <td>0.616877</td>\n",
       "      <td>1</td>\n",
       "      <td>1</td>\n",
       "    </tr>\n",
       "  </tbody>\n",
       "</table>\n",
       "</div>"
      ],
      "text/plain": [
       "    Id      Fare       Age    Pclass  FamilySize  TGD_Titulo_Mr  P_Target_0  \\\n",
       "0  665  0.831478  0.177063 -0.369365    0.679295              1    0.457381   \n",
       "1  703 -0.492545 -0.361618  0.827377   -0.560975              1    0.863568   \n",
       "2  306  1.584179  0.000000 -1.566107   -0.560975              0    0.037639   \n",
       "3  127 -0.504626 -0.438572  0.827377   -0.560975              1    0.960632   \n",
       "4  247 -0.356469 -0.438572 -0.369365    0.679295              0    0.383123   \n",
       "\n",
       "   P_Target_1  C_Target  target_t_bin  \n",
       "0    0.542619         1             0  \n",
       "1    0.136432         0             0  \n",
       "2    0.962361         1             1  \n",
       "3    0.039368         0             1  \n",
       "4    0.616877         1             1  "
      ]
     },
     "execution_count": 14,
     "metadata": {},
     "output_type": "execute_result"
    }
   ],
   "source": [
    "valid_df_ho.head()"
   ]
  },
  {
   "cell_type": "markdown",
   "metadata": {},
   "source": [
    "#### Calculando KS - Desenvolvimento"
   ]
  },
  {
   "cell_type": "code",
   "execution_count": 15,
   "metadata": {},
   "outputs": [
    {
     "data": {
      "text/html": [
       "<div>\n",
       "<style scoped>\n",
       "    .dataframe tbody tr th:only-of-type {\n",
       "        vertical-align: middle;\n",
       "    }\n",
       "\n",
       "    .dataframe tbody tr th {\n",
       "        vertical-align: top;\n",
       "    }\n",
       "\n",
       "    .dataframe thead th {\n",
       "        text-align: right;\n",
       "    }\n",
       "</style>\n",
       "<table border=\"1\" class=\"dataframe\">\n",
       "  <thead>\n",
       "    <tr style=\"text-align: right;\">\n",
       "      <th></th>\n",
       "      <th>min_scr</th>\n",
       "      <th>max_scr</th>\n",
       "      <th>bads</th>\n",
       "      <th>goods</th>\n",
       "      <th>total</th>\n",
       "      <th>odds</th>\n",
       "      <th>bad_rate</th>\n",
       "      <th>ks</th>\n",
       "      <th>max_ks</th>\n",
       "    </tr>\n",
       "  </thead>\n",
       "  <tbody>\n",
       "    <tr>\n",
       "      <th>0</th>\n",
       "      <td>0.000553</td>\n",
       "      <td>0.051173</td>\n",
       "      <td>70</td>\n",
       "      <td>0</td>\n",
       "      <td>70</td>\n",
       "      <td>0.00</td>\n",
       "      <td>100.00%</td>\n",
       "      <td>26.92</td>\n",
       "      <td></td>\n",
       "    </tr>\n",
       "    <tr>\n",
       "      <th>1</th>\n",
       "      <td>0.053458</td>\n",
       "      <td>0.140420</td>\n",
       "      <td>65</td>\n",
       "      <td>4</td>\n",
       "      <td>69</td>\n",
       "      <td>0.06</td>\n",
       "      <td>94.20%</td>\n",
       "      <td>51.00</td>\n",
       "      <td></td>\n",
       "    </tr>\n",
       "    <tr>\n",
       "      <th>2</th>\n",
       "      <td>0.146025</td>\n",
       "      <td>0.344361</td>\n",
       "      <td>60</td>\n",
       "      <td>9</td>\n",
       "      <td>69</td>\n",
       "      <td>0.15</td>\n",
       "      <td>86.96%</td>\n",
       "      <td>72.00</td>\n",
       "      <td></td>\n",
       "    </tr>\n",
       "    <tr>\n",
       "      <th>3</th>\n",
       "      <td>0.350424</td>\n",
       "      <td>0.658863</td>\n",
       "      <td>39</td>\n",
       "      <td>34</td>\n",
       "      <td>73</td>\n",
       "      <td>0.87</td>\n",
       "      <td>53.42%</td>\n",
       "      <td>79.17</td>\n",
       "      <td>&lt;== KS ==</td>\n",
       "    </tr>\n",
       "    <tr>\n",
       "      <th>4</th>\n",
       "      <td>0.667823</td>\n",
       "      <td>0.814971</td>\n",
       "      <td>12</td>\n",
       "      <td>54</td>\n",
       "      <td>66</td>\n",
       "      <td>4.50</td>\n",
       "      <td>18.18%</td>\n",
       "      <td>71.34</td>\n",
       "      <td></td>\n",
       "    </tr>\n",
       "    <tr>\n",
       "      <th>5</th>\n",
       "      <td>0.815290</td>\n",
       "      <td>0.873996</td>\n",
       "      <td>8</td>\n",
       "      <td>66</td>\n",
       "      <td>74</td>\n",
       "      <td>8.25</td>\n",
       "      <td>10.81%</td>\n",
       "      <td>59.21</td>\n",
       "      <td></td>\n",
       "    </tr>\n",
       "    <tr>\n",
       "      <th>6</th>\n",
       "      <td>0.874009</td>\n",
       "      <td>0.922701</td>\n",
       "      <td>5</td>\n",
       "      <td>60</td>\n",
       "      <td>65</td>\n",
       "      <td>12.00</td>\n",
       "      <td>7.69%</td>\n",
       "      <td>47.31</td>\n",
       "      <td></td>\n",
       "    </tr>\n",
       "    <tr>\n",
       "      <th>7</th>\n",
       "      <td>0.922934</td>\n",
       "      <td>0.957338</td>\n",
       "      <td>1</td>\n",
       "      <td>69</td>\n",
       "      <td>70</td>\n",
       "      <td>69.00</td>\n",
       "      <td>1.43%</td>\n",
       "      <td>31.80</td>\n",
       "      <td></td>\n",
       "    </tr>\n",
       "    <tr>\n",
       "      <th>8</th>\n",
       "      <td>0.957358</td>\n",
       "      <td>0.977443</td>\n",
       "      <td>0</td>\n",
       "      <td>68</td>\n",
       "      <td>68</td>\n",
       "      <td>inf</td>\n",
       "      <td>0.00%</td>\n",
       "      <td>16.13</td>\n",
       "      <td></td>\n",
       "    </tr>\n",
       "    <tr>\n",
       "      <th>9</th>\n",
       "      <td>0.977556</td>\n",
       "      <td>0.998669</td>\n",
       "      <td>0</td>\n",
       "      <td>70</td>\n",
       "      <td>70</td>\n",
       "      <td>inf</td>\n",
       "      <td>0.00%</td>\n",
       "      <td>0.00</td>\n",
       "      <td></td>\n",
       "    </tr>\n",
       "  </tbody>\n",
       "</table>\n",
       "</div>"
      ],
      "text/plain": [
       "    min_scr   max_scr  bads  goods  total   odds bad_rate     ks     max_ks\n",
       "0  0.000553  0.051173    70      0     70   0.00  100.00%  26.92           \n",
       "1  0.053458  0.140420    65      4     69   0.06   94.20%  51.00           \n",
       "2  0.146025  0.344361    60      9     69   0.15   86.96%  72.00           \n",
       "3  0.350424  0.658863    39     34     73   0.87   53.42%  79.17  <== KS ==\n",
       "4  0.667823  0.814971    12     54     66   4.50   18.18%  71.34           \n",
       "5  0.815290  0.873996     8     66     74   8.25   10.81%  59.21           \n",
       "6  0.874009  0.922701     5     60     65  12.00    7.69%  47.31           \n",
       "7  0.922934  0.957338     1     69     70  69.00    1.43%  31.80           \n",
       "8  0.957358  0.977443     0     68     68    inf    0.00%  16.13           \n",
       "9  0.977556  0.998669     0     70     70    inf    0.00%   0.00           "
      ]
     },
     "execution_count": 15,
     "metadata": {},
     "output_type": "execute_result"
    }
   ],
   "source": [
    "KS_df,KS_value_d = TuringEvaluateModels(desenv_df_ho,'P_Target_0','target_t_bin')\n",
    "KS_df.head(10)"
   ]
  },
  {
   "cell_type": "markdown",
   "metadata": {},
   "source": [
    "#### Calculando KS - Validação"
   ]
  },
  {
   "cell_type": "code",
   "execution_count": 16,
   "metadata": {},
   "outputs": [
    {
     "data": {
      "text/html": [
       "<div>\n",
       "<style scoped>\n",
       "    .dataframe tbody tr th:only-of-type {\n",
       "        vertical-align: middle;\n",
       "    }\n",
       "\n",
       "    .dataframe tbody tr th {\n",
       "        vertical-align: top;\n",
       "    }\n",
       "\n",
       "    .dataframe thead th {\n",
       "        text-align: right;\n",
       "    }\n",
       "</style>\n",
       "<table border=\"1\" class=\"dataframe\">\n",
       "  <thead>\n",
       "    <tr style=\"text-align: right;\">\n",
       "      <th></th>\n",
       "      <th>min_scr</th>\n",
       "      <th>max_scr</th>\n",
       "      <th>bads</th>\n",
       "      <th>goods</th>\n",
       "      <th>total</th>\n",
       "      <th>odds</th>\n",
       "      <th>bad_rate</th>\n",
       "      <th>ks</th>\n",
       "      <th>max_ks</th>\n",
       "    </tr>\n",
       "  </thead>\n",
       "  <tbody>\n",
       "    <tr>\n",
       "      <th>0</th>\n",
       "      <td>0.000553</td>\n",
       "      <td>0.051386</td>\n",
       "      <td>18</td>\n",
       "      <td>2</td>\n",
       "      <td>20</td>\n",
       "      <td>0.11</td>\n",
       "      <td>90.00%</td>\n",
       "      <td>20.21</td>\n",
       "      <td></td>\n",
       "    </tr>\n",
       "    <tr>\n",
       "      <th>1</th>\n",
       "      <td>0.052181</td>\n",
       "      <td>0.074608</td>\n",
       "      <td>18</td>\n",
       "      <td>2</td>\n",
       "      <td>20</td>\n",
       "      <td>0.11</td>\n",
       "      <td>90.00%</td>\n",
       "      <td>40.42</td>\n",
       "      <td></td>\n",
       "    </tr>\n",
       "    <tr>\n",
       "      <th>2</th>\n",
       "      <td>0.075651</td>\n",
       "      <td>0.281630</td>\n",
       "      <td>16</td>\n",
       "      <td>6</td>\n",
       "      <td>22</td>\n",
       "      <td>0.38</td>\n",
       "      <td>72.73%</td>\n",
       "      <td>54.72</td>\n",
       "      <td></td>\n",
       "    </tr>\n",
       "    <tr>\n",
       "      <th>3</th>\n",
       "      <td>0.289699</td>\n",
       "      <td>0.550604</td>\n",
       "      <td>10</td>\n",
       "      <td>7</td>\n",
       "      <td>17</td>\n",
       "      <td>0.70</td>\n",
       "      <td>58.82%</td>\n",
       "      <td>60.83</td>\n",
       "      <td>&lt;== KS ==</td>\n",
       "    </tr>\n",
       "    <tr>\n",
       "      <th>4</th>\n",
       "      <td>0.559137</td>\n",
       "      <td>0.741244</td>\n",
       "      <td>8</td>\n",
       "      <td>14</td>\n",
       "      <td>22</td>\n",
       "      <td>1.75</td>\n",
       "      <td>36.36%</td>\n",
       "      <td>58.41</td>\n",
       "      <td></td>\n",
       "    </tr>\n",
       "    <tr>\n",
       "      <th>5</th>\n",
       "      <td>0.745804</td>\n",
       "      <td>0.792745</td>\n",
       "      <td>5</td>\n",
       "      <td>12</td>\n",
       "      <td>17</td>\n",
       "      <td>2.40</td>\n",
       "      <td>29.41%</td>\n",
       "      <td>54.07</td>\n",
       "      <td></td>\n",
       "    </tr>\n",
       "    <tr>\n",
       "      <th>6</th>\n",
       "      <td>0.816737</td>\n",
       "      <td>0.887868</td>\n",
       "      <td>3</td>\n",
       "      <td>17</td>\n",
       "      <td>20</td>\n",
       "      <td>5.67</td>\n",
       "      <td>15.00%</td>\n",
       "      <td>42.95</td>\n",
       "      <td></td>\n",
       "    </tr>\n",
       "    <tr>\n",
       "      <th>7</th>\n",
       "      <td>0.890443</td>\n",
       "      <td>0.935080</td>\n",
       "      <td>2</td>\n",
       "      <td>17</td>\n",
       "      <td>19</td>\n",
       "      <td>8.50</td>\n",
       "      <td>10.53%</td>\n",
       "      <td>30.60</td>\n",
       "      <td></td>\n",
       "    </tr>\n",
       "    <tr>\n",
       "      <th>8</th>\n",
       "      <td>0.937508</td>\n",
       "      <td>0.971250</td>\n",
       "      <td>2</td>\n",
       "      <td>18</td>\n",
       "      <td>20</td>\n",
       "      <td>9.00</td>\n",
       "      <td>10.00%</td>\n",
       "      <td>17.39</td>\n",
       "      <td></td>\n",
       "    </tr>\n",
       "    <tr>\n",
       "      <th>9</th>\n",
       "      <td>0.972426</td>\n",
       "      <td>0.997216</td>\n",
       "      <td>0</td>\n",
       "      <td>20</td>\n",
       "      <td>20</td>\n",
       "      <td>inf</td>\n",
       "      <td>0.00%</td>\n",
       "      <td>0.00</td>\n",
       "      <td></td>\n",
       "    </tr>\n",
       "  </tbody>\n",
       "</table>\n",
       "</div>"
      ],
      "text/plain": [
       "    min_scr   max_scr  bads  goods  total  odds bad_rate     ks     max_ks\n",
       "0  0.000553  0.051386    18      2     20  0.11   90.00%  20.21           \n",
       "1  0.052181  0.074608    18      2     20  0.11   90.00%  40.42           \n",
       "2  0.075651  0.281630    16      6     22  0.38   72.73%  54.72           \n",
       "3  0.289699  0.550604    10      7     17  0.70   58.82%  60.83  <== KS ==\n",
       "4  0.559137  0.741244     8     14     22  1.75   36.36%  58.41           \n",
       "5  0.745804  0.792745     5     12     17  2.40   29.41%  54.07           \n",
       "6  0.816737  0.887868     3     17     20  5.67   15.00%  42.95           \n",
       "7  0.890443  0.935080     2     17     19  8.50   10.53%  30.60           \n",
       "8  0.937508  0.971250     2     18     20  9.00   10.00%  17.39           \n",
       "9  0.972426  0.997216     0     20     20   inf    0.00%   0.00           "
      ]
     },
     "execution_count": 16,
     "metadata": {},
     "output_type": "execute_result"
    }
   ],
   "source": [
    "KS_df,KS_value_v = TuringEvaluateModels(valid_df_ho,'P_Target_0','target_t_bin')\n",
    "KS_df.head(10)"
   ]
  },
  {
   "cell_type": "markdown",
   "metadata": {},
   "source": [
    "#### Calculando Gini - Desenvolvimento"
   ]
  },
  {
   "cell_type": "code",
   "execution_count": 17,
   "metadata": {},
   "outputs": [
    {
     "data": {
      "text/plain": [
       "91.75999999999999"
      ]
     },
     "execution_count": 17,
     "metadata": {},
     "output_type": "execute_result"
    }
   ],
   "source": [
    "gini_desenv = TuringGini(desenv_df_ho,'target_t_bin','P_Target_1')\n",
    "gini_desenv*100"
   ]
  },
  {
   "cell_type": "markdown",
   "metadata": {},
   "source": [
    "#### Calculando Gini - Validação"
   ]
  },
  {
   "cell_type": "code",
   "execution_count": 18,
   "metadata": {},
   "outputs": [
    {
     "data": {
      "text/plain": [
       "75.96000000000001"
      ]
     },
     "execution_count": 18,
     "metadata": {},
     "output_type": "execute_result"
    }
   ],
   "source": [
    "gini_valid = TuringGini(valid_df_ho,'target_t_bin','P_Target_1')\n",
    "gini_valid*100"
   ]
  },
  {
   "cell_type": "markdown",
   "metadata": {},
   "source": [
    "#### Consolidando Metricas "
   ]
  },
  {
   "cell_type": "code",
   "execution_count": 19,
   "metadata": {},
   "outputs": [
    {
     "data": {
      "text/html": [
       "<div>\n",
       "<style scoped>\n",
       "    .dataframe tbody tr th:only-of-type {\n",
       "        vertical-align: middle;\n",
       "    }\n",
       "\n",
       "    .dataframe tbody tr th {\n",
       "        vertical-align: top;\n",
       "    }\n",
       "\n",
       "    .dataframe thead th {\n",
       "        text-align: right;\n",
       "    }\n",
       "</style>\n",
       "<table border=\"1\" class=\"dataframe\">\n",
       "  <thead>\n",
       "    <tr style=\"text-align: right;\">\n",
       "      <th></th>\n",
       "      <th>ABT</th>\n",
       "      <th>KS</th>\n",
       "      <th>Gini</th>\n",
       "    </tr>\n",
       "  </thead>\n",
       "  <tbody>\n",
       "    <tr>\n",
       "      <th>0</th>\n",
       "      <td>Desenv</td>\n",
       "      <td>79.17</td>\n",
       "      <td>0.9176</td>\n",
       "    </tr>\n",
       "    <tr>\n",
       "      <th>1</th>\n",
       "      <td>Valid</td>\n",
       "      <td>60.83</td>\n",
       "      <td>0.7596</td>\n",
       "    </tr>\n",
       "  </tbody>\n",
       "</table>\n",
       "</div>"
      ],
      "text/plain": [
       "      ABT     KS    Gini\n",
       "0  Desenv  79.17  0.9176\n",
       "1   Valid  60.83  0.7596"
      ]
     },
     "execution_count": 19,
     "metadata": {},
     "output_type": "execute_result"
    }
   ],
   "source": [
    "metricas = [['Desenv', KS_value_d,gini_desenv], ['Valid', KS_value_v,gini_valid]]\n",
    "df = pd.DataFrame(metricas, columns = ['ABT','KS', 'Gini']) \n",
    "df"
   ]
  }
 ],
 "metadata": {
  "kernelspec": {
   "display_name": "Python 3",
   "language": "python",
   "name": "python3"
  },
  "language_info": {
   "codemirror_mode": {
    "name": "ipython",
    "version": 3
   },
   "file_extension": ".py",
   "mimetype": "text/x-python",
   "name": "python",
   "nbconvert_exporter": "python",
   "pygments_lexer": "ipython3",
   "version": "3.6.8"
  }
 },
 "nbformat": 4,
 "nbformat_minor": 2
}
